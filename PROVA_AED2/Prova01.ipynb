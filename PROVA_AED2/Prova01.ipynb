{
 "cells": [
  {
   "cell_type": "code",
   "execution_count": 35,
   "id": "730ff118-964c-4ce3-b2ad-366077d3a631",
   "metadata": {},
   "outputs": [],
   "source": [
    "# LISTA ENCADEADA - PROVA 01\n",
    "class Node:\n",
    "    def __init__(self, data):\n",
    "        self.data = data\n",
    "        self.next = None\n",
    "\n",
    "def contar_elementos(inicio):\n",
    "    count = 0\n",
    "    atual = inicio\n",
    "    while atual:\n",
    "        count += 1\n",
    "        atual = atual.next\n",
    "    return count"
   ]
  },
  {
   "cell_type": "code",
   "execution_count": 37,
   "id": "cc50c0db-e779-4737-8790-414c0b546470",
   "metadata": {},
   "outputs": [
    {
     "name": "stdout",
     "output_type": "stream",
     "text": [
      "Número de elementos na lista: 3\n"
     ]
    }
   ],
   "source": [
    "# IMPLEMENTAÇÃO \n",
    "n1 = Node(5)\n",
    "n2 = Node(15)\n",
    "n3 = Node(15)\n",
    "n1.next = n2\n",
    "n2.next = n3\n",
    "\n",
    "print(\"Número de elementos na lista:\", contar_elementos(n1))"
   ]
  },
  {
   "cell_type": "code",
   "execution_count": null,
   "id": "4504134c-3ed6-4164-9a05-a3688807e3ff",
   "metadata": {},
   "outputs": [],
   "source": []
  }
 ],
 "metadata": {
  "kernelspec": {
   "display_name": "Python [conda env:base] *",
   "language": "python",
   "name": "conda-base-py"
  },
  "language_info": {
   "codemirror_mode": {
    "name": "ipython",
    "version": 3
   },
   "file_extension": ".py",
   "mimetype": "text/x-python",
   "name": "python",
   "nbconvert_exporter": "python",
   "pygments_lexer": "ipython3",
   "version": "3.12.7"
  }
 },
 "nbformat": 4,
 "nbformat_minor": 5
}
